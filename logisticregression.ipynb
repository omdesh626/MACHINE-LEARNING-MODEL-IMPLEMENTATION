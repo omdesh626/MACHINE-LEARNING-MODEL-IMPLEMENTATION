{
 "cells": [
  {
   "cell_type": "code",
   "execution_count": 1,
   "id": "6cb13dbe-dc0b-49fb-85dd-84cca63807b4",
   "metadata": {},
   "outputs": [],
   "source": [
    "import numpy as np\n",
    "from sklearn.linear_model import LogisticRegression\n",
    "from sklearn.impute import SimpleImputer\n",
    "\n",
    "x_test = np.genfromtxt('test_titanic_x_test.csv', delimiter=',', skip_header=1)\n",
    "train = np.genfromtxt('training_titanic_x_y_train.csv', delimiter=',', skip_header=1)\n",
    "\n",
    "\n",
    "x_train = train[:, :-1]\n",
    "y_train = train[:, -1]\n",
    "\n",
    "\n",
    "imputer = SimpleImputer(strategy='mean')\n",
    "x_train = imputer.fit_transform(x_train)\n",
    "x_test = imputer.transform(x_test)\n",
    "\n",
    "\n",
    "alg1 = LogisticRegression(C=2.0)\n",
    "alg1.fit(x_train, y_train)\n",
    "\n",
    "\n",
    "predictions = alg1.predict(x_test)\n",
    "\n",
    "np.savetxt('prediction.csv', predictions, fmt='%d', delimiter=',')"
   ]
  },
  {
   "cell_type": "code",
   "execution_count": null,
   "id": "5b9651e3-7453-447d-8829-ec3c63ff8eb4",
   "metadata": {},
   "outputs": [],
   "source": []
  },
  {
   "cell_type": "code",
   "execution_count": null,
   "id": "e7438ceb-b73e-4dfe-93bd-5b5784898dd7",
   "metadata": {},
   "outputs": [],
   "source": []
  }
 ],
 "metadata": {
  "kernelspec": {
   "display_name": "Python 3 (ipykernel)",
   "language": "python",
   "name": "python3"
  },
  "language_info": {
   "codemirror_mode": {
    "name": "ipython",
    "version": 3
   },
   "file_extension": ".py",
   "mimetype": "text/x-python",
   "name": "python",
   "nbconvert_exporter": "python",
   "pygments_lexer": "ipython3",
   "version": "3.11.7"
  }
 },
 "nbformat": 4,
 "nbformat_minor": 5
}
